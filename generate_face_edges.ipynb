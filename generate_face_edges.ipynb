{
 "cells": [
  {
   "cell_type": "code",
   "execution_count": null,
   "metadata": {},
   "outputs": [],
   "source": [
    "from config import path_labels, image_shape\n",
    "from datagen import get_paths\n",
    "import random\n",
    "import os\n",
    "import cv2\n",
    "import numpy as np\n",
    "import matplotlib.pyplot as plt"
   ]
  },
  {
   "cell_type": "code",
   "execution_count": null,
   "metadata": {},
   "outputs": [],
   "source": [
    "def make_edge_datset(path_dataset, path_write, batch_size, out_shape=(512,512,3)):\n",
    "    if not os.path.isdir(path_write):\n",
    "        os.mkdir(path_write)\n",
    "    \n",
    "    all_paths = get_paths(path_dataset)\n",
    "    selected_paths = all_paths#random.sample(all_paths, batch_size)\n",
    "\n",
    "    batch_images = []\n",
    "    batch_labels = []\n",
    "    kernel = np.ones((5,5),np.uint8)\n",
    "    for i in range(0,len(selected_paths)):\n",
    "        print('------------------------------------')\n",
    "        print('Finding Edges ... ',str(i),' of ',len(all_paths))\n",
    "\n",
    "        img_name = selected_paths[i].split('/')[-1]\n",
    "        img = cv2.imread(selected_paths[i])\n",
    "        img = cv2.GaussianBlur(img, (5,5),0)\n",
    "#         img = cv2.resize(img,(out_shape[0],out_shape[1]))\n",
    "        lab = cv2.Canny(img,100,200)\n",
    "\n",
    "        lab = cv2.dilate(lab,kernel,iterations = 1)\n",
    "        \n",
    "        cv2.imwrite(path_write+img_name, lab)\n",
    "#     return np.array(batch_images), np.array(batch_labels)"
   ]
  },
  {
   "cell_type": "code",
   "execution_count": null,
   "metadata": {},
   "outputs": [],
   "source": [
    "path_write = 'edge_dataset_2/'\n",
    "batch_size = 10\n",
    "path_labels = 'dataset_backup/stylegan_faces_2/'\n",
    "make_edge_datset(path_labels, path_write, batch_size, image_shape)"
   ]
  },
  {
   "cell_type": "code",
   "execution_count": null,
   "metadata": {},
   "outputs": [],
   "source": []
  },
  {
   "cell_type": "code",
   "execution_count": null,
   "metadata": {},
   "outputs": [],
   "source": []
  }
 ],
 "metadata": {
  "colab": {
   "authorship_tag": "ABX9TyMf8/cXvrPpV1S4zrzPrb9D",
   "collapsed_sections": [],
   "mount_file_id": "1-iCX9zzGpWbwcXlM8M34s1KnIgljiDlW",
   "name": "draw.ipynb",
   "provenance": []
  },
  "kernelspec": {
   "display_name": "Python 3",
   "language": "python",
   "name": "python3"
  },
  "language_info": {
   "codemirror_mode": {
    "name": "ipython",
    "version": 3
   },
   "file_extension": ".py",
   "mimetype": "text/x-python",
   "name": "python",
   "nbconvert_exporter": "python",
   "pygments_lexer": "ipython3",
   "version": "3.6.9"
  }
 },
 "nbformat": 4,
 "nbformat_minor": 1
}
